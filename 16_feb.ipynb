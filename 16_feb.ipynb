{
 "cells": [
  {
   "cell_type": "markdown",
   "id": "1a2a3ba1-1b83-4a75-aecf-51fc4339b976",
   "metadata": {},
   "source": [
    "# Q1. What is a database? Differentiate between SQL and NoSQL databases.\n"
   ]
  },
  {
   "cell_type": "markdown",
   "id": "0fd45794-a1fd-4b3b-b5cf-eb9f2ee85b8d",
   "metadata": {},
   "source": [
    "Database is a storage system where different data can be stored and can be extracted as per the need of the user.\n",
    "\n",
    "# SQL\n",
    "\n",
    "SQL stands for Structured Query Language in which the data stored is in tabular form, that is in rows and columns\n",
    "\n",
    "# NoSql\n",
    "\n",
    "NoSql stands for not structued query language in which the data can be of any format and will be unstructured in nature"
   ]
  },
  {
   "cell_type": "markdown",
   "id": "c1aec196-cb81-4a92-baec-13948c1f45c4",
   "metadata": {},
   "source": [
    "# Q2. What is DDL? Explain why CREATE, DROP, ALTER, and TRUNCATE are used with an example.\n"
   ]
  },
  {
   "cell_type": "markdown",
   "id": "0418025b-5a96-40a3-9d44-1021a8569397",
   "metadata": {},
   "source": [
    "DDL stands for Data Definition Language and DDL helps to create the schema of the database\n",
    "\n",
    "1) CREATE\n",
    "--> Create is used to create tables and the databases\n",
    "    CREATE TABLE table_name;\n",
    " \n",
    "2) DROP \n",
    "--> Drop is used to drop a table from the database\n",
    "    DROP TABLE tabel_name;\n",
    "    \n",
    "3) ALTER\n",
    "--> Alter is used to change the type or structure of the database \n",
    "    ALTER TABLE table_name MODIFY column_name column_type;\n",
    "\n",
    "4) TRUNCATE\n",
    "--> Truncate is used to delete a column from a table\n",
    "    TRUNCATE TABLE table_name;"
   ]
  },
  {
   "cell_type": "markdown",
   "id": "8430367a-472c-4bb0-81e5-468f81d6c122",
   "metadata": {},
   "source": [
    "# Q3. What is DML? Explain INSERT, UPDATE, and DELETE with an example.\n"
   ]
  },
  {
   "cell_type": "markdown",
   "id": "ac486613-a498-4a5e-a022-8e953baf0de5",
   "metadata": {},
   "source": [
    "Data Manipulation Language (DML) commands in SQL deals with manipulation of data records stored within the database tables. It does not deal with changes to database objects and its structure.\n",
    "\n",
    "1) INSERT\n",
    "\n",
    "--> Used to insert new data records or rows in the database table\n",
    "\n",
    "\n",
    "INSERT INTO public.customers(customer_id, sale_date, sale_amount)VALUES (1005,'2019-12-12',4200);\n",
    "    \n",
    "2) UPDATE\n",
    "\n",
    "\n",
    "--> Used to set the value of a field or column for a particular record to a new value\n",
    "\n",
    "\n",
    "UPDATE customers SET store_state = 'DL';\n",
    "\n",
    "3) DELETE\n",
    "\n",
    "--> Used to remove one or more rows from the database table\n",
    "\n",
    "\n",
    "DELETE FROM customers WHERE customer_id = '1001';"
   ]
  },
  {
   "cell_type": "markdown",
   "id": "8e07b7e6-21d8-4f35-9f19-8665fd1ee205",
   "metadata": {},
   "source": [
    "# Q4. What is DQL? Explain SELECT with an example.\n"
   ]
  },
  {
   "cell_type": "markdown",
   "id": "6ff8f2cc-95e6-4e29-bf13-cbd1c06149a2",
   "metadata": {},
   "source": [
    "DQL statements are used for performing queries on the data within schema objects. The purpose of the DQL Command is to get some schema relation based on the query passed to it. \n",
    "\n",
    "select * from employee;  \n",
    "\n",
    "It will display all the rows and columns of the table named as employee"
   ]
  },
  {
   "cell_type": "markdown",
   "id": "dc456948-1405-4216-bf7d-25960ad6ea67",
   "metadata": {},
   "source": [
    "# Q5. Explain Primary Key and Foreign Key."
   ]
  },
  {
   "cell_type": "markdown",
   "id": "c256534a-461d-4644-8b2d-ae373ae0a34a",
   "metadata": {},
   "source": [
    "# Primary Key\n",
    "\n",
    "A primary key is used to ensure data in the specific column is unique.\n",
    "\n",
    "It uniquely identifies a record in the relational database table.\n",
    "\n",
    "# FOREIGN KEY\n",
    "\n",
    "A foreign key is a column or group of columns in a relational database table that provides a link between data in two tables.\n",
    "\n",
    "It refers to the field in a table which is the primary key of another table."
   ]
  },
  {
   "cell_type": "markdown",
   "id": "32bce2fd-ffb0-40c5-a8e4-8690449f1e87",
   "metadata": {},
   "source": [
    "# Q6. Write a python code to connect MySQL to python. Explain the cursor() and execute() method."
   ]
  },
  {
   "cell_type": "code",
   "execution_count": null,
   "id": "b71b38a1-4b67-4024-9ab8-f928f21e9dfd",
   "metadata": {},
   "outputs": [],
   "source": [
    "import mysql.connector"
   ]
  },
  {
   "cell_type": "code",
   "execution_count": null,
   "id": "e2795fcf-d199-4f2b-8c61-2dd88a5d327b",
   "metadata": {},
   "outputs": [],
   "source": [
    "mydb = mysql.connector.connect(\n",
    "\n",
    "    host = \"localhost\",\n",
    "    useranme = \"abc\",\n",
    "    password = \"password\"\n",
    "\n",
    ")\n",
    "print(mydb)\n",
    "mydb.close()"
   ]
  },
  {
   "cell_type": "markdown",
   "id": "18c51f05-8cce-4ece-8fd4-4951f17146b4",
   "metadata": {},
   "source": [
    "cursor()\n",
    "\n",
    "cursor is a function that helps to make a pointer that points on the row and columns which can be used to iterate the entire table\n",
    "\n",
    "execute()\n",
    "\n",
    "execute command is used to execute the sql clasuses which are written inside it."
   ]
  },
  {
   "cell_type": "markdown",
   "id": "d59570b6-3415-4763-a074-b3c4b5e0a834",
   "metadata": {},
   "source": [
    "# Q7. Give the order of execution of SQL clauses in an SQL query."
   ]
  },
  {
   "cell_type": "markdown",
   "id": "9a9688e6-bc42-4747-a094-12c4866a67b7",
   "metadata": {},
   "source": [
    "SELECT DISTINCT TOP_specification select_list\n",
    "\n",
    "FROM left_table\n",
    "\n",
    "join_type JOIN right_table\n",
    "\n",
    "ON join_condition\n",
    "\n",
    "WHERE where_condition\n",
    "\n",
    "GROUP BY group_by_list\n",
    "\n",
    "HAVING having_condition\n",
    "\n",
    "ORDER BY order_by_list\n",
    "\n",
    "1)FROM clause\n",
    "\n",
    "2)ON clause\n",
    "\n",
    "3)OUTER clause\n",
    "\n",
    "4)WHERE clause\n",
    "\n",
    "5)GROUP BY clause\n",
    "\n",
    "6)HAVING clause\n",
    "\n",
    "7)SELECT clause\n",
    "\n",
    "8)DISTINCT clause\n",
    "\n",
    "9)ORDER BY clause\n",
    "\n",
    "10)TOP clause"
   ]
  },
  {
   "cell_type": "code",
   "execution_count": null,
   "id": "96d22a4d-81a7-4268-85a5-d97c639bafa5",
   "metadata": {},
   "outputs": [],
   "source": []
  },
  {
   "cell_type": "code",
   "execution_count": null,
   "id": "efc42d31-7ae7-445e-a2a2-3212a49806c8",
   "metadata": {},
   "outputs": [],
   "source": []
  }
 ],
 "metadata": {
  "kernelspec": {
   "display_name": "Python 3 (ipykernel)",
   "language": "python",
   "name": "python3"
  },
  "language_info": {
   "codemirror_mode": {
    "name": "ipython",
    "version": 3
   },
   "file_extension": ".py",
   "mimetype": "text/x-python",
   "name": "python",
   "nbconvert_exporter": "python",
   "pygments_lexer": "ipython3",
   "version": "3.10.8"
  }
 },
 "nbformat": 4,
 "nbformat_minor": 5
}
